{
 "cells": [
  {
   "cell_type": "markdown",
   "metadata": {},
   "source": [
    "Read sensor data from a Pravega stream written by Pravega Sensor Collector.\n",
    "Then analyze the gaps in the event timestamps."
   ]
  },
  {
   "cell_type": "markdown",
   "metadata": {},
   "source": [
    "## Install GRPC"
   ]
  },
  {
   "cell_type": "code",
   "execution_count": null,
   "metadata": {},
   "outputs": [],
   "source": [
    "!pip install grpcio"
   ]
  },
  {
   "cell_type": "markdown",
   "metadata": {},
   "source": [
    "## Install Pravega GRPC Gateway Client"
   ]
  },
  {
   "cell_type": "code",
   "execution_count": null,
   "metadata": {},
   "outputs": [],
   "source": [
    "!pip uninstall -y pravega-grpc-gateway-client ; \\\n",
    "    rm -rf /tmp/pravega-grpc-gateway ; \\\n",
    "    git clone https://github.com/pravega/pravega-grpc-gateway /tmp/pravega-grpc-gateway && \\\n",
    "    cd /tmp/pravega-grpc-gateway && \\\n",
    "    git checkout master && \\\n",
    "    pip install pravega-grpc-gateway/src/main/python"
   ]
  },
  {
   "cell_type": "code",
   "execution_count": null,
   "metadata": {},
   "outputs": [],
   "source": [
    "import grpc\n",
    "import imp\n",
    "import pravega.grpc_gateway as pravega\n",
    "import os\n",
    "import pandas as pd\n",
    "import numpy as np\n",
    "import matplotlib.pyplot as plt\n",
    "import json\n",
    "from itertools import islice"
   ]
  },
  {
   "cell_type": "code",
   "execution_count": null,
   "metadata": {},
   "outputs": [],
   "source": [
    "class StreamBase():\n",
    "    def __init__(self, pravega_client, scope, stream):\n",
    "        self.pravega_client = pravega_client\n",
    "        self.scope = scope\n",
    "        self.stream = stream\n",
    "\n",
    "    def create_stream(self, min_num_segments=1):\n",
    "        return self.pravega_client.CreateStream(pravega.pb.CreateStreamRequest(\n",
    "            scope=self.scope,\n",
    "            stream=self.stream,\n",
    "            scaling_policy=pravega.pb.ScalingPolicy(min_num_segments=min_num_segments),\n",
    "        ))\n",
    "\n",
    "    def delete_stream(self):\n",
    "        return self.pravega_client.DeleteStream(pravega.pb.DeleteStreamRequest(\n",
    "            scope=self.scope,\n",
    "            stream=self.stream,\n",
    "        ))\n",
    "\n",
    "    def get_stream_info(self):\n",
    "        return self.pravega_client.GetStreamInfo(pravega.pb.GetStreamInfoRequest(\n",
    "            scope=self.scope,\n",
    "            stream=self.stream,\n",
    "        ))\n",
    "\n",
    "    def truncate_stream(self):\n",
    "        return self.pravega_client.TruncateStream(pravega.pb.TruncateStreamRequest(\n",
    "            scope=self.scope,\n",
    "            stream=self.stream,\n",
    "            stream_cut=self.get_stream_info().tail_stream_cut,\n",
    "        ))\n",
    "\n",
    "    def write_events(self, events_to_write):\n",
    "        return self.pravega_client.WriteEvents(events_to_write)"
   ]
  },
  {
   "cell_type": "code",
   "execution_count": null,
   "metadata": {},
   "outputs": [],
   "source": [
    "class UnindexedStream(StreamBase):\n",
    "    def __init__(self, pravega_client, scope, stream):\n",
    "        super(UnindexedStream, self).__init__(pravega_client, scope, stream)\n",
    "\n",
    "    def read_events(self, from_stream_cut=None, to_stream_cut=None, stop_at_tail=False):\n",
    "        \"\"\"Read events from a Pravega stream. Returned events will be byte arrays.\"\"\"\n",
    "        if stop_at_tail:\n",
    "            to_stream_cut = self.get_stream_info().tail_stream_cut\n",
    "        read_events_request = pravega.pb.ReadEventsRequest(\n",
    "            scope=self.scope,\n",
    "            stream=self.stream,\n",
    "            from_stream_cut=from_stream_cut,\n",
    "            to_stream_cut=to_stream_cut,\n",
    "        )\n",
    "        return self.pravega_client.ReadEvents(read_events_request)"
   ]
  },
  {
   "cell_type": "code",
   "execution_count": null,
   "metadata": {},
   "outputs": [],
   "source": [
    "gateway = os.environ['PRAVEGA_GRPC_GATEWAY_ADDRESS']\n",
    "scope = 'edge'\n",
    "stream = 'pravega-sensor-collector-test3'"
   ]
  },
  {
   "cell_type": "code",
   "execution_count": null,
   "metadata": {},
   "outputs": [],
   "source": [
    "pravega_channel = grpc.insecure_channel(gateway, options=[\n",
    "        ('grpc.max_receive_message_length', 9*1024*1024),\n",
    "    ])\n",
    "pravega_client = pravega.grpc.PravegaGatewayStub(pravega_channel)"
   ]
  },
  {
   "cell_type": "code",
   "execution_count": null,
   "metadata": {},
   "outputs": [],
   "source": [
    "unindexed_stream = UnindexedStream(pravega_client, scope=scope, stream=stream)"
   ]
  },
  {
   "cell_type": "code",
   "execution_count": null,
   "metadata": {},
   "outputs": [],
   "source": [
    "# raw_events = list(islice(unindexed_stream.read_events(stop_at_tail=True), 1000000))\n",
    "# del raw_events\n",
    "# len(raw_events)\n",
    "# events = [json.loads(e.event) for e in raw_events]\n",
    "# del raw_events\n",
    "# timestamps = [t for e in events for t in e['TimestampsNanos']]\n",
    "# del events"
   ]
  },
  {
   "cell_type": "code",
   "execution_count": null,
   "metadata": {},
   "outputs": [],
   "source": [
    "%%time\n",
    "timestamps = [t for e in islice(unindexed_stream.read_events(stop_at_tail=True), 8*60*60)\n",
    "                for t in json.loads(e.event)['TimestampsNanos']]"
   ]
  },
  {
   "cell_type": "code",
   "execution_count": null,
   "metadata": {},
   "outputs": [],
   "source": [
    "len(timestamps)"
   ]
  },
  {
   "cell_type": "code",
   "execution_count": null,
   "metadata": {},
   "outputs": [],
   "source": [
    "# Skip first 1500 records\n",
    "timestamps = timestamps[1500:]"
   ]
  },
  {
   "cell_type": "code",
   "execution_count": null,
   "metadata": {},
   "outputs": [],
   "source": [
    "total_hours = len(timestamps) / 1600 / 60 / 60\n",
    "total_hours"
   ]
  },
  {
   "cell_type": "code",
   "execution_count": null,
   "metadata": {},
   "outputs": [],
   "source": [
    "%%time\n",
    "timestamp_series = pd.Series(timestamps)\n",
    "del timestamps"
   ]
  },
  {
   "cell_type": "code",
   "execution_count": null,
   "metadata": {},
   "outputs": [],
   "source": [
    "gaps = timestamp_series.diff()[1:]\n",
    "del timestamp_series"
   ]
  },
  {
   "cell_type": "code",
   "execution_count": null,
   "metadata": {},
   "outputs": [],
   "source": [
    "# Skip first 1500 records and convert to milliseconds.\n",
    "gaps_ms = gaps[1500:] * 1e-6\n",
    "del gaps"
   ]
  },
  {
   "cell_type": "code",
   "execution_count": null,
   "metadata": {},
   "outputs": [],
   "source": [
    "gaps_ms.describe()"
   ]
  },
  {
   "cell_type": "code",
   "execution_count": null,
   "metadata": {},
   "outputs": [],
   "source": [
    "ax = gaps_ms.plot(figsize=(12,4))\n",
    "ax.set_xlabel(\"record number\")\n",
    "ax.set_ylabel(\"gap (milliseconds)\");"
   ]
  },
  {
   "cell_type": "code",
   "execution_count": null,
   "metadata": {},
   "outputs": [],
   "source": [
    "# ax = gaps_ms.plot(figsize=(12,4), xlim=[2482650,2482680], style='x-')\n",
    "# ax.set_xlabel(\"record number\")\n",
    "# ax.set_ylabel(\"gap (milliseconds)\");"
   ]
  },
  {
   "cell_type": "code",
   "execution_count": null,
   "metadata": {},
   "outputs": [],
   "source": [
    "ax = gaps_ms.hist(bins=range(0,80), log=True, figsize=(12,4))\n",
    "ax.set_xlabel(\"gap (milliseconds)\")\n",
    "ax.set_ylabel(\"count\");"
   ]
  },
  {
   "cell_type": "code",
   "execution_count": null,
   "metadata": {},
   "outputs": [],
   "source": [
    "np.mean(gaps_ms < 1) * 100"
   ]
  },
  {
   "cell_type": "code",
   "execution_count": null,
   "metadata": {},
   "outputs": [],
   "source": [
    "np.mean(gaps_ms < 2) * 100"
   ]
  },
  {
   "cell_type": "code",
   "execution_count": null,
   "metadata": {},
   "outputs": [],
   "source": [
    "huge_gaps = gaps_ms[gaps_ms > 10]\n",
    "huge_gaps"
   ]
  },
  {
   "cell_type": "code",
   "execution_count": null,
   "metadata": {},
   "outputs": [],
   "source": [
    "np.diff(huge_gaps.index.values) / 1600 / 60"
   ]
  },
  {
   "cell_type": "code",
   "execution_count": null,
   "metadata": {},
   "outputs": [],
   "source": [
    "fft = pd.Series(np.fft.fft(gaps_ms))"
   ]
  },
  {
   "cell_type": "code",
   "execution_count": null,
   "metadata": {},
   "outputs": [],
   "source": [
    "fft"
   ]
  },
  {
   "cell_type": "code",
   "execution_count": null,
   "metadata": {},
   "outputs": [],
   "source": [
    "fft.plot(logx=True)"
   ]
  },
  {
   "cell_type": "code",
   "execution_count": null,
   "metadata": {},
   "outputs": [],
   "source": []
  }
 ],
 "metadata": {
  "kernelspec": {
   "display_name": "Python 3",
   "language": "python",
   "name": "python3"
  },
  "language_info": {
   "codemirror_mode": {
    "name": "ipython",
    "version": 3
   },
   "file_extension": ".py",
   "mimetype": "text/x-python",
   "name": "python",
   "nbconvert_exporter": "python",
   "pygments_lexer": "ipython3",
   "version": "3.7.6"
  }
 },
 "nbformat": 4,
 "nbformat_minor": 4
}
